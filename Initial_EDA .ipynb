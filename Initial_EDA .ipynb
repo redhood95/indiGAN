{
 "cells": [
  {
   "cell_type": "code",
   "execution_count": 2,
   "metadata": {},
   "outputs": [],
   "source": [
    "import numpy as np\n",
    "import pandas as pd \n",
    "import matplotlib.pyplot as plt"
   ]
  },
  {
   "cell_type": "markdown",
   "metadata": {},
   "source": [
    "explore data in iisc folder"
   ]
  },
  {
   "cell_type": "code",
   "execution_count": 12,
   "metadata": {},
   "outputs": [],
   "source": [
    "data1 = pd.read_csv('data/IISc/Annotations/IISc.tsv',sep='\\t')"
   ]
  },
  {
   "cell_type": "code",
   "execution_count": 13,
   "metadata": {},
   "outputs": [
    {
     "data": {
      "text/html": [
       "<div>\n",
       "<style scoped>\n",
       "    .dataframe tbody tr th:only-of-type {\n",
       "        vertical-align: middle;\n",
       "    }\n",
       "\n",
       "    .dataframe tbody tr th {\n",
       "        vertical-align: top;\n",
       "    }\n",
       "\n",
       "    .dataframe thead th {\n",
       "        text-align: right;\n",
       "    }\n",
       "</style>\n",
       "<table border=\"1\" class=\"dataframe\">\n",
       "  <thead>\n",
       "    <tr style=\"text-align: right;\">\n",
       "      <th></th>\n",
       "      <th>path</th>\n",
       "      <th>tonic(hz)</th>\n",
       "      <th>tradition</th>\n",
       "      <th>artist_name</th>\n",
       "      <th>gender</th>\n",
       "      <th>vocal_instrumental</th>\n",
       "    </tr>\n",
       "  </thead>\n",
       "  <tbody>\n",
       "    <tr>\n",
       "      <th>0</th>\n",
       "      <td>TonicDataset/IISc/audio/harikambhoji/03b-enduk...</td>\n",
       "      <td>133.51</td>\n",
       "      <td>na</td>\n",
       "      <td>na</td>\n",
       "      <td>Male</td>\n",
       "      <td>NaN</td>\n",
       "    </tr>\n",
       "    <tr>\n",
       "      <th>1</th>\n",
       "      <td>TonicDataset/IISc/audio/harikambhoji/04c-sanit...</td>\n",
       "      <td>168.34</td>\n",
       "      <td>na</td>\n",
       "      <td>na</td>\n",
       "      <td>Female</td>\n",
       "      <td>NaN</td>\n",
       "    </tr>\n",
       "    <tr>\n",
       "      <th>2</th>\n",
       "      <td>TonicDataset/IISc/audio/harikambhoji/04a-harik...</td>\n",
       "      <td>167.79</td>\n",
       "      <td>na</td>\n",
       "      <td>na</td>\n",
       "      <td>Female</td>\n",
       "      <td>NaN</td>\n",
       "    </tr>\n",
       "    <tr>\n",
       "      <th>3</th>\n",
       "      <td>TonicDataset/IISc/audio/harikambhoji/02a-enduk...</td>\n",
       "      <td>141.47</td>\n",
       "      <td>na</td>\n",
       "      <td>na</td>\n",
       "      <td>Male</td>\n",
       "      <td>NaN</td>\n",
       "    </tr>\n",
       "    <tr>\n",
       "      <th>4</th>\n",
       "      <td>TonicDataset/IISc/audio/harikambhoji/19b_FILLE...</td>\n",
       "      <td>133.47</td>\n",
       "      <td>na</td>\n",
       "      <td>na</td>\n",
       "      <td>Male</td>\n",
       "      <td>NaN</td>\n",
       "    </tr>\n",
       "  </tbody>\n",
       "</table>\n",
       "</div>"
      ],
      "text/plain": [
       "                                                path  tonic(hz) tradition  \\\n",
       "0  TonicDataset/IISc/audio/harikambhoji/03b-enduk...     133.51        na   \n",
       "1  TonicDataset/IISc/audio/harikambhoji/04c-sanit...     168.34        na   \n",
       "2  TonicDataset/IISc/audio/harikambhoji/04a-harik...     167.79        na   \n",
       "3  TonicDataset/IISc/audio/harikambhoji/02a-enduk...     141.47        na   \n",
       "4  TonicDataset/IISc/audio/harikambhoji/19b_FILLE...     133.47        na   \n",
       "\n",
       "  artist_name  gender  vocal_instrumental  \n",
       "0          na    Male                 NaN  \n",
       "1          na  Female                 NaN  \n",
       "2          na  Female                 NaN  \n",
       "3          na    Male                 NaN  \n",
       "4          na    Male                 NaN  "
      ]
     },
     "execution_count": 13,
     "metadata": {},
     "output_type": "execute_result"
    }
   ],
   "source": [
    "data1.head()"
   ]
  },
  {
   "cell_type": "code",
   "execution_count": 14,
   "metadata": {},
   "outputs": [
    {
     "data": {
      "text/html": [
       "<div>\n",
       "<style scoped>\n",
       "    .dataframe tbody tr th:only-of-type {\n",
       "        vertical-align: middle;\n",
       "    }\n",
       "\n",
       "    .dataframe tbody tr th {\n",
       "        vertical-align: top;\n",
       "    }\n",
       "\n",
       "    .dataframe thead th {\n",
       "        text-align: right;\n",
       "    }\n",
       "</style>\n",
       "<table border=\"1\" class=\"dataframe\">\n",
       "  <thead>\n",
       "    <tr style=\"text-align: right;\">\n",
       "      <th></th>\n",
       "      <th>path</th>\n",
       "      <th>tonic(hz)</th>\n",
       "      <th>tradition</th>\n",
       "      <th>artist_name</th>\n",
       "      <th>gender</th>\n",
       "      <th>vocal_instrumental</th>\n",
       "    </tr>\n",
       "  </thead>\n",
       "  <tbody>\n",
       "    <tr>\n",
       "      <th>50</th>\n",
       "      <td>TonicDataset/IISc/audio/shankarabharana/08c-da...</td>\n",
       "      <td>132.74</td>\n",
       "      <td>na</td>\n",
       "      <td>na</td>\n",
       "      <td>Male</td>\n",
       "      <td>NaN</td>\n",
       "    </tr>\n",
       "    <tr>\n",
       "      <th>51</th>\n",
       "      <td>TonicDataset/IISc/audio/shankarabharana/09a-rt...</td>\n",
       "      <td>132.28</td>\n",
       "      <td>na</td>\n",
       "      <td>na</td>\n",
       "      <td>Male</td>\n",
       "      <td>NaN</td>\n",
       "    </tr>\n",
       "    <tr>\n",
       "      <th>52</th>\n",
       "      <td>TonicDataset/IISc/audio/shankarabharana/09d-rt...</td>\n",
       "      <td>130.53</td>\n",
       "      <td>na</td>\n",
       "      <td>na</td>\n",
       "      <td>Male</td>\n",
       "      <td>NaN</td>\n",
       "    </tr>\n",
       "    <tr>\n",
       "      <th>53</th>\n",
       "      <td>TonicDataset/IISc/audio/shankarabharana/13a-FI...</td>\n",
       "      <td>134.09</td>\n",
       "      <td>na</td>\n",
       "      <td>na</td>\n",
       "      <td>Male</td>\n",
       "      <td>NaN</td>\n",
       "    </tr>\n",
       "    <tr>\n",
       "      <th>54</th>\n",
       "      <td>TonicDataset/IISc/audio/shankarabharana/13d-FI...</td>\n",
       "      <td>135.07</td>\n",
       "      <td>na</td>\n",
       "      <td>na</td>\n",
       "      <td>Male</td>\n",
       "      <td>NaN</td>\n",
       "    </tr>\n",
       "  </tbody>\n",
       "</table>\n",
       "</div>"
      ],
      "text/plain": [
       "                                                 path  tonic(hz) tradition  \\\n",
       "50  TonicDataset/IISc/audio/shankarabharana/08c-da...     132.74        na   \n",
       "51  TonicDataset/IISc/audio/shankarabharana/09a-rt...     132.28        na   \n",
       "52  TonicDataset/IISc/audio/shankarabharana/09d-rt...     130.53        na   \n",
       "53  TonicDataset/IISc/audio/shankarabharana/13a-FI...     134.09        na   \n",
       "54  TonicDataset/IISc/audio/shankarabharana/13d-FI...     135.07        na   \n",
       "\n",
       "   artist_name gender  vocal_instrumental  \n",
       "50          na   Male                 NaN  \n",
       "51          na   Male                 NaN  \n",
       "52          na   Male                 NaN  \n",
       "53          na   Male                 NaN  \n",
       "54          na   Male                 NaN  "
      ]
     },
     "execution_count": 14,
     "metadata": {},
     "output_type": "execute_result"
    }
   ],
   "source": [
    "data1.tail()"
   ]
  },
  {
   "cell_type": "code",
   "execution_count": null,
   "metadata": {},
   "outputs": [],
   "source": []
  }
 ],
 "metadata": {
  "kernelspec": {
   "display_name": "Python 3",
   "language": "python",
   "name": "python3"
  },
  "language_info": {
   "codemirror_mode": {
    "name": "ipython",
    "version": 3
   },
   "file_extension": ".py",
   "mimetype": "text/x-python",
   "name": "python",
   "nbconvert_exporter": "python",
   "pygments_lexer": "ipython3",
   "version": "3.6.5"
  }
 },
 "nbformat": 4,
 "nbformat_minor": 2
}
